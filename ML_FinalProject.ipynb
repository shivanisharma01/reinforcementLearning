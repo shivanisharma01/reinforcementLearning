{
  "nbformat": 4,
  "nbformat_minor": 0,
  "metadata": {
    "accelerator": "GPU",
    "colab": {
      "name": "ML-FinalProject.ipynb",
      "provenance": [],
      "collapsed_sections": []
    },
    "kernelspec": {
      "display_name": "Python 3",
      "name": "python3"
    }
  },
  "cells": [
    {
      "cell_type": "code",
      "metadata": {
        "id": "duu6phGibhlI"
      },
      "source": [
        "import numpy as np\r\n",
        "import matplotlib.pyplot as plt\r\n",
        "from keras.datasets import mnist\r\n",
        "from keras import models,layers , optimizers , datasets , utils\r\n",
        "from keras.layers import Dense, Dropout, Activation, Flatten, Conv2D, MaxPooling2D"
      ],
      "execution_count": 2,
      "outputs": []
    },
    {
      "cell_type": "code",
      "metadata": {
        "colab": {
          "base_uri": "https://localhost:8080/"
        },
        "id": "T8bKJr-BcDQO",
        "outputId": "52d1635a-115b-4257-b832-2201cc5c92f0"
      },
      "source": [
        "#CNN for MNIST Recognition\r\n",
        "(x_train, y_train), (x_test, y_test) = datasets.mnist.load_data()\r\n",
        "x_train_data = x_train[0:60000]\r\n",
        "x_test_data = x_test[0:10000]\r\n",
        "y_train = utils.to_categorical(y_train, 10)\r\n",
        "y_train_data = y_train[0:60000]\r\n",
        "y_test = utils.to_categorical(y_test, 10)\r\n",
        "y_test_data = y_test[0:10000]\r\n",
        "\r\n",
        "inputs = layers.Input(shape=(28,28,1,))\r\n",
        "x = Conv2D(32 , kernel_size=(3,3) , activation='relu',input_shape=(28,28,1))(inputs)\r\n",
        "x = MaxPooling2D(pool_size=(2,2))(x)\r\n",
        "x = Conv2D(64 , kernel_size=(3,3) , activation='relu')(x)\r\n",
        "x = Dropout(0.25)(x)\r\n",
        "x = Flatten()(x)\r\n",
        "x= Dense(128,activation='relu')(x)\r\n",
        "x = Dense(32,activation='relu')(x)\r\n",
        "outputs = Dense(10,activation='softmax')(x)\r\n",
        "\r\n",
        "model = models.Model(inputs=inputs, outputs=outputs)\r\n",
        "model.compile(loss='categorical_crossentropy', optimizer = 'nadam', metrics =['accuracy'])\r\n",
        "history = model.fit( x_train_data , y_train_data , batch_size = 32, epochs =10)\r\n",
        "loss, score = model.evaluate(x_test_data, y_test_data)\r\n",
        "print(score)"
      ],
      "execution_count": 3,
      "outputs": [
        {
          "output_type": "stream",
          "text": [
            "Downloading data from https://storage.googleapis.com/tensorflow/tf-keras-datasets/mnist.npz\n",
            "11493376/11490434 [==============================] - 0s 0us/step\n",
            "Epoch 1/10\n",
            "1875/1875 [==============================] - 7s 4ms/step - loss: 0.2608 - accuracy: 0.9287\n",
            "Epoch 2/10\n",
            "1875/1875 [==============================] - 7s 4ms/step - loss: 0.0682 - accuracy: 0.9803\n",
            "Epoch 3/10\n",
            "1875/1875 [==============================] - 7s 4ms/step - loss: 0.0497 - accuracy: 0.9856\n",
            "Epoch 4/10\n",
            "1875/1875 [==============================] - 7s 4ms/step - loss: 0.0427 - accuracy: 0.9878\n",
            "Epoch 5/10\n",
            "1875/1875 [==============================] - 8s 4ms/step - loss: 0.0389 - accuracy: 0.9889\n",
            "Epoch 6/10\n",
            "1875/1875 [==============================] - 7s 4ms/step - loss: 0.0313 - accuracy: 0.9909\n",
            "Epoch 7/10\n",
            "1875/1875 [==============================] - 8s 4ms/step - loss: 0.0256 - accuracy: 0.9923\n",
            "Epoch 8/10\n",
            "1875/1875 [==============================] - 7s 4ms/step - loss: 0.0233 - accuracy: 0.9931\n",
            "Epoch 9/10\n",
            "1875/1875 [==============================] - 7s 4ms/step - loss: 0.0237 - accuracy: 0.9938\n",
            "Epoch 10/10\n",
            "1875/1875 [==============================] - 7s 4ms/step - loss: 0.0195 - accuracy: 0.9945\n",
            "313/313 [==============================] - 1s 2ms/step - loss: 0.0490 - accuracy: 0.9876\n",
            "0.9876000285148621\n"
          ],
          "name": "stdout"
        }
      ]
    },
    {
      "cell_type": "code",
      "metadata": {
        "colab": {
          "base_uri": "https://localhost:8080/"
        },
        "id": "Ix3uo9BicjFs",
        "outputId": "a61c2c0e-5ab0-45ea-d16e-4ae3ecc00ab7"
      },
      "source": [
        "# Predicting the test data\r\n",
        "predict_y = model.predict(x_test_data)\r\n",
        "predict_y = np.around(predict_y,0)\r\n",
        "print(predict_y)"
      ],
      "execution_count": 4,
      "outputs": [
        {
          "output_type": "stream",
          "text": [
            "[[0. 0. 0. ... 1. 0. 0.]\n",
            " [0. 0. 1. ... 0. 0. 0.]\n",
            " [0. 1. 0. ... 0. 0. 0.]\n",
            " ...\n",
            " [0. 0. 0. ... 0. 0. 0.]\n",
            " [0. 0. 0. ... 0. 0. 0.]\n",
            " [0. 0. 0. ... 0. 0. 0.]]\n"
          ],
          "name": "stdout"
        }
      ]
    },
    {
      "cell_type": "code",
      "metadata": {
        "id": "uNwF8WfLcpH8"
      },
      "source": [
        "#Freezing all the layers\r\n",
        "for layer in model.layers:\r\n",
        "  layer.trainable = False"
      ],
      "execution_count": 5,
      "outputs": []
    },
    {
      "cell_type": "code",
      "metadata": {
        "id": "rmAMu7KUc9Zx"
      },
      "source": [
        "numInput = model.output\r\n",
        "h = layers.Dense(10, activation='relu')(numInput)\r\n",
        "outputs = layers.Dense(2, activation='linear')(h)\r\n",
        "relu_model = models.Model(inputs=model.input, outputs=outputs)\r\n",
        "\r\n",
        "RMSprop = optimizers.RMSprop(lr=0.01)\r\n",
        "relu_model.compile(loss='mse', optimizer=RMSprop)"
      ],
      "execution_count": 6,
      "outputs": []
    },
    {
      "cell_type": "code",
      "metadata": {
        "id": "Bb5kMO3gdM57"
      },
      "source": [
        "import numpy as np\r\n",
        "import matplotlib.pyplot as plt\r\n",
        "from keras import models, layers, optimizers\r\n",
        "def tau(s,a):\r\n",
        "  if (s[0] and s[9]) == 0 : \r\n",
        "    s=np.roll(s,a) \r\n",
        "  return s\r\n",
        "\r\n",
        "# Getting image input based on state\r\n",
        "def imagestate(s):\r\n",
        "  match = np.where((predict_y == s).all(axis=1))\r\n",
        "  match = np.array(match).flatten()\r\n",
        "  match1 = np.random.choice(match, 1)\r\n",
        "  nextimage = x_train_data[match1]\r\n",
        "  return nextimage\r\n",
        "\r\n",
        "def rho(s):\r\n",
        "  return ((s[0]==1)+2*(s[9]==1))    \r\n",
        "\r\n",
        "def terminal_state(s):\r\n",
        "  return (s[0]==1 or s[9]==1) \r\n",
        "\r\n",
        "def rho1(s,a):\r\n",
        "    return (s==1 and a==-1)+2*(s==8 and a == 1)\r\n",
        " \r\n",
        "def calc_policy(Q):\r\n",
        "    policy=np.zeros(10)\r\n",
        "    for s in range(0,10):\r\n",
        "        action_idx=np.argmax(Q[s,:])\r\n",
        "        policy[s]=2*action_idx-1\r\n",
        "        policy[0]=policy[9]=0\r\n",
        "    return policy.astype(int)   \r\n",
        "\r\n",
        "gamma=0.8\r\n",
        "invT = 1.0"
      ],
      "execution_count": 11,
      "outputs": []
    },
    {
      "cell_type": "code",
      "metadata": {
        "colab": {
          "base_uri": "https://localhost:8080/"
        },
        "id": "YyGO_b0ndUmy",
        "outputId": "1f957194-16c1-4b19-eef9-34975ccf0f8b"
      },
      "source": [
        "# Code for getting actual Q values which will be used to find error while training the model\r\n",
        "i=0; R=np.zeros(20)\r\n",
        "for s in range(0,10):\r\n",
        "    for a in range(-1,2,2):  \r\n",
        "        #print(\"a\",a)\r\n",
        "        R[i]=rho1(s,a)\r\n",
        "        i += 1\r\n",
        "print(R)\r\n",
        "        \r\n",
        "# Transition matrix\r\n",
        "T=np.zeros([20,20]);\r\n",
        "T[0,0]=1; T[1,1]=1; T[2,0]=1; T[3,5]=1; T[4,2]=1\r\n",
        "T[5,7]=1; T[6,4]=1; T[7,9]=1; T[8,6]=1; T[9,11]=1\r\n",
        "T[10,8]=1;T[11,13]=1;T[12,10]=1;T[13,15]=1;T[14,12]=1\r\n",
        "T[15,17]=1; T[16,14]=1; T[17,19]=1;T[19,19]=1\r\n",
        " \r\n",
        "# Q- function\r\n",
        "Q=np.linalg.inv(np.eye(20)-gamma*T) @ np.transpose(R)\r\n",
        "Q = Q.reshape(10,2)\r\n",
        "policy=calc_policy(Q)\r\n",
        "print('Q_values: \\n',np.transpose(Q))\r\n",
        "print('policy: \\n',np.transpose(policy))"
      ],
      "execution_count": 12,
      "outputs": [
        {
          "output_type": "stream",
          "text": [
            "[0. 0. 1. 0. 0. 0. 0. 0. 0. 0. 0. 0. 0. 0. 0. 0. 0. 2. 0. 0.]\n",
            "Q_values: \n",
            " [[0.        1.        0.8       0.64      0.512     0.4096    0.32768\n",
            "  0.262144  0.2097152 0.       ]\n",
            " [0.        0.4194304 0.524288  0.65536   0.8192    1.024     1.28\n",
            "  1.6       2.        0.       ]]\n",
            "policy: \n",
            " [ 0 -1 -1  1  1  1  1  1  1  0]\n"
          ],
          "name": "stdout"
        }
      ]
    },
    {
      "cell_type": "code",
      "metadata": {
        "colab": {
          "base_uri": "https://localhost:8080/",
          "height": 297
        },
        "id": "7Y6f9TnkdWLX",
        "outputId": "e0d2b9f4-c8f9-431c-d239-c3eba1b641f7"
      },
      "source": [
        "# Storing the error values of iterations in a list\r\n",
        "error=[]\r\n",
        "# Defining a Q function which will be changing through out the iterations\r\n",
        "Q_Values=np.zeros([10,2])\r\n",
        "for trial in range(400):\r\n",
        "  #Taking a random image\r\n",
        "  i = np.random.randint(1,9)\r\n",
        "  state = np.zeros((10,))\r\n",
        "  state[i] = 1\r\n",
        "  simage = imagestate(state)\r\n",
        "  while True:\r\n",
        "    if terminal_state(state): \r\n",
        "      break\r\n",
        "    if trial > 50 and invT > 0.1: \r\n",
        "      invT -= 1.0\r\n",
        "\r\n",
        "    prediction=relu_model.predict(simage, steps=1, verbose=0)\r\n",
        "    aidx=np.argmax(prediction)\r\n",
        "\r\n",
        "    # Getting state number from one-hot encoded state\r\n",
        "    number = np.where(state == 1)\r\n",
        "    number = np.array(number).flatten()\r\n",
        "    s = number[0]\r\n",
        "    Q_Values[s]=prediction\r\n",
        "\r\n",
        "    if np.random.rand() < invT : \r\n",
        "      aidx=1-aidx\r\n",
        "    a=2*aidx-1\r\n",
        "    next_state = tau(state,a)\r\n",
        "    next_image = imagestate(next_state)\r\n",
        "    if terminal_state(next_state): \r\n",
        "      y = rho(next_state)\r\n",
        "    else:\r\n",
        "      y = rho(next_state) + gamma*np.max(relu_model.predict(next_image, steps=1, verbose=0))\r\n",
        "    prediction[0,aidx]=y\r\n",
        "    relu_model.fit(simage, prediction, epochs=1, verbose=0)\r\n",
        "    simage = np.copy(next_image)\r\n",
        "    state = np.copy(next_state)\r\n",
        "  error.append(np.sum(np.sum(np.abs(np.subtract(Q_Values,Q))))) \r\n",
        "plt.plot(error); \r\n",
        "plt.xlabel('Session'); \r\n",
        "plt.ylabel('state')"
      ],
      "execution_count": 14,
      "outputs": [
        {
          "output_type": "execute_result",
          "data": {
            "text/plain": [
              "Text(0, 0.5, 'state')"
            ]
          },
          "metadata": {
            "tags": []
          },
          "execution_count": 14
        },
        {
          "output_type": "display_data",
          "data": {
            "image/png": "[encoded data removed]",
            "text/plain": [
              "<Figure size 432x288 with 1 Axes>"
            ]
          },
          "metadata": {
            "tags": [],
            "needs_background": "light"
          }
        }
      ]
    },
    {
      "cell_type": "code",
      "metadata": {
        "colab": {
          "base_uri": "https://localhost:8080/"
        },
        "id": "ygKbkTG1dxnq",
        "outputId": "4581acbf-dc54-422e-81ee-aa6f105ea4a2"
      },
      "source": [
        "policy = np.zeros(10)\r\n",
        "Q=[]\r\n",
        "\r\n",
        "image = np.zeros((1,x_test_data.shape[1],x_test_data.shape[2]))\r\n",
        "image[0] = x_test_data[3]\r\n",
        "s = predict_y[3]\r\n",
        "s = np.around(s,0)\r\n",
        "for i in range(0,10):\r\n",
        "    Qs=relu_model.predict(image, steps=1)[0]\r\n",
        "    Q.append(Qs)\r\n",
        "    aidx=np.argmax(Qs)\r\n",
        "    policy[i]=2*aidx-1\r\n",
        "    s = np.roll(s,1)\r\n",
        "    image = imagestate(s)\r\n",
        "print(np.transpose(Q))\r\n",
        "print('policy:',np.transpose(policy))"
      ],
      "execution_count": 19,
      "outputs": [
        {
          "output_type": "stream",
          "text": [
            "[[0.8570617 0.8570617 0.8570617 0.8570617 0.8570617 0.8570617 0.8570617\n",
            "  0.8570617 0.8570617 0.8570617]\n",
            " [1.1942912 1.1942912 1.1942912 1.1942912 1.1942912 1.1942912 1.1942912\n",
            "  1.1942912 1.1942912 1.1942912]]\n",
            "policy: [1. 1. 1. 1. 1. 1. 1. 1. 1. 1.]\n"
          ],
          "name": "stdout"
        }
      ]
    },
    {
      "cell_type": "markdown",
      "metadata": {
        "id": "_yP1Et313YVt"
      },
      "source": [
        "**PART-2**\r\n"
      ]
    },
    {
      "cell_type": "code",
      "metadata": {
        "id": "493p0LQx3eQG"
      },
      "source": [
        "inputs = layers.Input(shape=(28,28,1,))\r\n",
        "cnn = Conv2D(32 , kernel_size=(3,3) , activation='relu',padding='valid',input_shape=(28,28,1))(inputs)\r\n",
        "cnn = MaxPooling2D(pool_size=(2,2))(cnn)\r\n",
        "cnn = Conv2D(64 , kernel_size=(3,3) , activation='relu')(cnn)\r\n",
        "cnn = Dropout(0.25)(cnn)\r\n",
        "cnn = Flatten()(cnn)\r\n",
        "cnn= Dense(128,activation='relu')(cnn)\r\n",
        "cnn = Dense(32,activation='relu')(cnn)\r\n",
        "outputs = Dense(10,activation='softmax')(cnn)\r\n",
        "cnn = Dense(10,activation='relu')(cnn)\r\n",
        "outputs = Dense(2, activation='linear')(cnn)\r\n",
        "\r\n",
        "#All layers without any pretraining of MNIST related layers\r\n",
        "rlmodel = models.Model(inputs= inputs, outputs=outputs)\r\n",
        "\r\n",
        "RMSprop = optimizers.RMSprop(lr=0.01)\r\n",
        "rlmodel.compile(loss='mse', optimizer=RMSprop)"
      ],
      "execution_count": 28,
      "outputs": []
    },
    {
      "cell_type": "code",
      "metadata": {
        "id": "SWQLD4Tf4G4p"
      },
      "source": [
        "import numpy as np\r\n",
        "import matplotlib.pyplot as plt\r\n",
        "from keras import models, layers, optimizers\r\n",
        "\r\n",
        "def tau(s,a):\r\n",
        "  if (s[0] and s[9]) == 0 : \r\n",
        "    s=np.roll(s,a) \r\n",
        "  return s\r\n",
        "\r\n",
        "def imagefromstate(s):\r\n",
        "  match = np.where((ytestdata == s).all(axis=1))\r\n",
        "  match = np.array(match).flatten()\r\n",
        "  match1 = np.random.choice(match, 1)\r\n",
        "  nextimage = xtestdata[match1]\r\n",
        "  return nextimage\r\n",
        "\r\n",
        "def rho(s):\r\n",
        "  return ((s[0]==1)+2*(s[9]==1))    \r\n",
        "\r\n",
        "def terminal_state(s):\r\n",
        "  return (s[0]==1 or s[9]==1) \r\n",
        "\r\n",
        "# Functions to find the optimal Q values to use it to find the error\r\n",
        "def rho1(s,a):\r\n",
        "    return (s==1 and a==-1)+2*(s==8 and a == 1)\r\n",
        " \r\n",
        "def calc_policy(Q):\r\n",
        "    policy=np.zeros(10)\r\n",
        "    for s in range(0,10):\r\n",
        "        action_idx=np.argmax(Q[s,:])\r\n",
        "        #print(\"action_idx\",action_idx)\r\n",
        "        policy[s]=2*action_idx-1\r\n",
        "        policy[0]=policy[9]=0\r\n",
        "    return policy.astype(int)      \r\n",
        "\r\n",
        "gamma=0.8\r\n",
        "invT = 1.0"
      ],
      "execution_count": 29,
      "outputs": []
    },
    {
      "cell_type": "code",
      "metadata": {
        "colab": {
          "base_uri": "https://localhost:8080/"
        },
        "id": "QRPxmFse4Ike",
        "outputId": "c97bc94f-d11e-47d8-b397-d714ae20b219"
      },
      "source": [
        "i=0; R=np.zeros(20)\r\n",
        "for s in range(0,10):\r\n",
        "    for a in range(-1,2,2):  \r\n",
        "        #print(\"a\",a)\r\n",
        "        R[i]=rho1(s,a)\r\n",
        "        i += 1\r\n",
        "\r\n",
        "T=np.zeros([20,20]);\r\n",
        "T[0,0]=1; T[1,1]=1; T[2,0]=1; T[3,5]=1; T[4,2]=1\r\n",
        "T[5,7]=1; T[6,4]=1; T[7,9]=1; T[8,6]=1; T[9,11]=1\r\n",
        "T[10,8]=1;T[11,13]=1;T[12,10]=1;T[13,15]=1;T[14,12]=1\r\n",
        "T[15,17]=1; T[16,14]=1; T[17,19]=1;T[19,19]=1\r\n",
        " \r\n",
        "# Q- function\r\n",
        "Q=np.linalg.inv(np.eye(20)-gamma*T) @ np.transpose(R)\r\n",
        "Q = Q.reshape(10,2)\r\n",
        "policy=calc_policy(Q)\r\n",
        "print('Q_values: \\n',np.transpose(Q))\r\n",
        "print('policy: \\n',np.transpose(policy))"
      ],
      "execution_count": 30,
      "outputs": [
        {
          "output_type": "stream",
          "text": [
            "Analytic solution for optimal policy\n",
            "[0. 0. 1. 0. 0. 0. 0. 0. 0. 0. 0. 0. 0. 0. 0. 0. 0. 2. 0. 0.]\n",
            "Q_values: \n",
            " [[0.        1.        0.8       0.64      0.512     0.4096    0.32768\n",
            "  0.262144  0.2097152 0.       ]\n",
            " [0.        0.4194304 0.524288  0.65536   0.8192    1.024     1.28\n",
            "  1.6       2.        0.       ]]\n",
            "policy: \n",
            " [ 0 -1 -1  1  1  1  1  1  1  0]\n"
          ],
          "name": "stdout"
        }
      ]
    },
    {
      "cell_type": "code",
      "metadata": {
        "colab": {
          "base_uri": "https://localhost:8080/",
          "height": 297
        },
        "id": "-ddyG_F64K4w",
        "outputId": "947fb038-69d5-4c28-e2c1-a54663b574f7"
      },
      "source": [
        "error=[]\r\n",
        "# Defining a Q function which will be changing through out the iterations\r\n",
        "Q_Values=np.zeros([10,2])\r\n",
        "gamma=0.8\r\n",
        "invT = 30\r\n",
        "for trial in range(400):\r\n",
        "  #Taking a random image\r\n",
        "  i = np.random.randint(1,9)\r\n",
        "  state = np.zeros((10,))\r\n",
        "  state[i] = 1\r\n",
        "  simage = imagestate(state)\r\n",
        "  while True:\r\n",
        "    if terminal_state(state): \r\n",
        "      break\r\n",
        "    if trial > 100 and invT > 0.1: \r\n",
        "      invT = 30\r\n",
        "\r\n",
        "    prediction=rlmodel.predict(simage, steps=1, verbose=0)\r\n",
        "    aidx=np.argmax(prediction)\r\n",
        "\r\n",
        "    number = np.where(state == 1)\r\n",
        "    number = np.array(number).flatten()\r\n",
        "    s = number[0]\r\n",
        "    Q_Values[s]=prediction\r\n",
        "\r\n",
        "    if np.random.rand() < epsilon : \r\n",
        "      aidx=1-aidx\r\n",
        "    a=2*aidx-1\r\n",
        "    next_state = tau(state,a)\r\n",
        "    next_simage = imagestate(next_state)\r\n",
        "    if terminal_state(next_state): \r\n",
        "      y = rho(next_state)\r\n",
        "    else:\r\n",
        "      y = rho(next_state) + gamma*np.max(rlmodel.predict(next_simage, steps=1, verbose=0))\r\n",
        "    prediction[0,aidx]=y\r\n",
        "    rlmodel.fit(simage, prediction, epochs=1, verbose=0)\r\n",
        "    simage = np.copy(next_simage)\r\n",
        "    state = np.copy(next_state)\r\n",
        "  error.append(np.sum(np.sum(np.abs(np.subtract(Q_Values,Q))))) \r\n",
        "plt.plot(error); \r\n",
        "plt.xlabel('Session'); \r\n",
        "plt.ylabel('Error')"
      ],
      "execution_count": 35,
      "outputs": [
        {
          "output_type": "execute_result",
          "data": {
            "text/plain": [
              "Text(0, 0.5, 'Error')"
            ]
          },
          "metadata": {
            "tags": []
          },
          "execution_count": 35
        },
        {
          "output_type": "display_data",
          "data": {
            "image/png": "[encoded data removed]",
            "text/plain": [
              "<Figure size 432x288 with 1 Axes>"
            ]
          },
          "metadata": {
            "tags": [],
            "needs_background": "light"
          }
        }
      ]
    },
    {
      "cell_type": "code",
      "metadata": {
        "id": "SvZbdYsc4Me7"
      },
      "source": [
        "policy = np.zeros(10)\r\n",
        "Q=[]\r\n",
        "\r\n",
        "image = np.zeros((1,xtestdata.shape[1],xtestdata.shape[2]))\r\n",
        "image[0] = xtestdata[3]\r\n",
        "s = np.zeros((10,))\r\n",
        "s[0] = 1\r\n",
        "s = np.around(s,0)\r\n",
        "for i in range(0,10):\r\n",
        "    Qs=rlmodel.predict(image, steps=1)[0]\r\n",
        "    Q.append(Qs)\r\n",
        "    aidx=np.argmax(Qs)\r\n",
        "    policy[i]=2*aidx-1\r\n",
        "    s = np.roll(s,1)\r\n",
        "    image = imagefromstate(s)\r\n",
        "print(np.transpose(Q))\r\n",
        "print('policy:',np.transpose(policy))"
      ],
      "execution_count": null,
      "outputs": []
    }
  ]
}